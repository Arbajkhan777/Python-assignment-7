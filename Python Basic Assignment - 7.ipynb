{
 "cells": [
  {
   "cell_type": "markdown",
   "id": "c203933b",
   "metadata": {},
   "source": [
    "Q.1. Create two int type variables, apply addition, subtraction, division and multiplications and store the results in variables. Then print the data in the following format by calling the variables:"
   ]
  },
  {
   "cell_type": "code",
   "execution_count": null,
   "id": "d81c0a73",
   "metadata": {},
   "outputs": [],
   "source": [
    "First variable is __ & second variable is __.\n",
    "Addition: __ + __ = __\n",
    "Subtraction: __ - __ = __\n",
    "Multiplication: __ * __ = __\n",
    "Division: __ / __ = __"
   ]
  },
  {
   "cell_type": "code",
   "execution_count": 4,
   "id": "0b3b2f00",
   "metadata": {},
   "outputs": [],
   "source": [
    "#ANS\n",
    "\n",
    "first_variable = 10\n",
    "second_variable = 5"
   ]
  },
  {
   "cell_type": "code",
   "execution_count": 6,
   "id": "9bb49b12",
   "metadata": {},
   "outputs": [],
   "source": [
    "addition_result = first_variable + sencond_variable\n",
    "subtraction_result = first_variable - sencond_variable\n",
    "division_result = first_variable / sencond_variable\n",
    "multiplications_result = first_variable * sencond_variable"
   ]
  },
  {
   "cell_type": "code",
   "execution_count": 8,
   "id": "4a45a3bb",
   "metadata": {},
   "outputs": [
    {
     "name": "stdout",
     "output_type": "stream",
     "text": [
      "Print Addition: 10 + 5 = 15\n",
      "Print Subtraction: 10 - 5 = 5\n",
      "Print Division: 10 / 5 = 2.0\n",
      "Print Multiplication: 10 * 5 = 50\n"
     ]
    }
   ],
   "source": [
    "print(f\"Print Addition: {first_variable} + {second_variable} = {addition_result}\")\n",
    "print(f\"Print Subtraction: {first_variable} - {second_variable} = {subtraction_result}\")\n",
    "print(f\"Print Division: {first_variable} / {second_variable} = {division_result}\")\n",
    "print(f\"Print Multiplication: {first_variable}  {second_variable} = {multiplications_result}\")"
   ]
  },
  {
   "cell_type": "code",
   "execution_count": null,
   "id": "a2bfb288",
   "metadata": {},
   "outputs": [],
   "source": []
  },
  {
   "cell_type": "markdown",
   "id": "25917c68",
   "metadata": {},
   "source": [
    "Q.2. What is the difference between the following operators:\n",
    "(i) ‘/’ & ‘//’\n",
    "(ii) ‘**’ & ‘^’"
   ]
  },
  {
   "cell_type": "markdown",
   "id": "80b0b2a7",
   "metadata": {},
   "source": [
    "#Ans \n",
    "\n",
    "(i) ‘/’ & ‘//’\n",
    "\n",
    "‘/’ is the division operator in python and it returns a floating number as a result.\n",
    "‘//’ is the floor division operator in python and it returs a intiger as a part of result."
   ]
  },
  {
   "cell_type": "markdown",
   "id": "2892c8b8",
   "metadata": {},
   "source": [
    "(ii) ‘**’ & ‘^’\n",
    "\n",
    "'**' This operator is used for raising a number to the power of another number.\n",
    "e.g '2**3' means (2 * 2 * 2 = 8)\n",
    "\n",
    "‘^’ This operator is used for performing Bitwise XOR operator."
   ]
  },
  {
   "cell_type": "code",
   "execution_count": null,
   "id": "c80de791",
   "metadata": {},
   "outputs": [],
   "source": []
  },
  {
   "cell_type": "markdown",
   "id": "12228179",
   "metadata": {},
   "source": [
    "Q.3. List the logical operators."
   ]
  },
  {
   "cell_type": "markdown",
   "id": "8d446b98",
   "metadata": {},
   "source": [
    "logical operators in Python are:\n",
    "\n",
    "1. and: This operator returs True if both operands are True, otherwise it return False.\n",
    "2. or: This operator returns True if at least one of the operands is True, otherwise it will return False.\n",
    "3. not: This operator returns True if the operand is False and vice versa. "
   ]
  },
  {
   "cell_type": "code",
   "execution_count": null,
   "id": "0867c107",
   "metadata": {},
   "outputs": [],
   "source": []
  },
  {
   "cell_type": "raw",
   "id": "3199b072",
   "metadata": {},
   "source": [
    "Q.4. Explain right shift operator and left shift operator with examples."
   ]
  },
  {
   "cell_type": "markdown",
   "id": "bac1a1ba",
   "metadata": {},
   "source": [
    "The right shift operator (>>) shifts the bits of a number to the right by a specified number of position.\n",
    "Syntax: number >> n\n",
    "where number: Value to be shifted and n: no of position to shift."
   ]
  },
  {
   "cell_type": "markdown",
   "id": "4038d90e",
   "metadata": {},
   "source": [
    "The left shift operator (<<) shifts the bits of a number to the left by a specified number of position.\n",
    "Syntax: number << n\n",
    "where number: Value to be shifted and n: no of position to shift."
   ]
  },
  {
   "cell_type": "code",
   "execution_count": null,
   "id": "dd96a732",
   "metadata": {},
   "outputs": [],
   "source": []
  },
  {
   "cell_type": "markdown",
   "id": "cc9a75bf",
   "metadata": {},
   "source": [
    "Q.5. Create a list containing int type data of length 15. Then write a code to check if 10 is\n",
    "present in the list or not."
   ]
  },
  {
   "cell_type": "code",
   "execution_count": 13,
   "id": "f75e6fdb",
   "metadata": {},
   "outputs": [],
   "source": [
    "my_list = [3, 7, 2, 9, 10, 5, 8, 1, 6, 4, 12, 14, 11, 15, 13]"
   ]
  },
  {
   "cell_type": "code",
   "execution_count": 15,
   "id": "9e2cbe70",
   "metadata": {},
   "outputs": [
    {
     "name": "stdout",
     "output_type": "stream",
     "text": [
      "10 is present in the list\n"
     ]
    }
   ],
   "source": [
    "if 10 in my_list:\n",
    "    print(\"10 is present in the list\")\n",
    "else:\n",
    "    print(\"10 is not present in the list\")"
   ]
  },
  {
   "cell_type": "code",
   "execution_count": null,
   "id": "10283f43",
   "metadata": {},
   "outputs": [],
   "source": []
  },
  {
   "cell_type": "code",
   "execution_count": null,
   "id": "86a5ec48",
   "metadata": {},
   "outputs": [],
   "source": []
  }
 ],
 "metadata": {
  "kernelspec": {
   "display_name": "Python 3 (ipykernel)",
   "language": "python",
   "name": "python3"
  },
  "language_info": {
   "codemirror_mode": {
    "name": "ipython",
    "version": 3
   },
   "file_extension": ".py",
   "mimetype": "text/x-python",
   "name": "python",
   "nbconvert_exporter": "python",
   "pygments_lexer": "ipython3",
   "version": "3.11.5"
  }
 },
 "nbformat": 4,
 "nbformat_minor": 5
}
